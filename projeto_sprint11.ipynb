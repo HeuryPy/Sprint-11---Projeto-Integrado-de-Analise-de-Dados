{
 "cells": [
  {
   "cell_type": "markdown",
   "metadata": {},
   "source": [
    "<div>\n",
    "Olá, Heury!\n",
    "\n",
    "Meu nome é Luiz. Fico feliz em revisar seu projeto. Ao longo do texto farei algumas observações sobre melhorias no código e também farei comentários sobre suas percepções sobre o assunto. Estarei aberto a feedbacks e discussões sobre o tema.\n",
    "\n",
    "**Peço que mantenha e não altere os comentários que eu fizer por aqui para que possamos nos localizar posteriormente, ok?**\n",
    "\n",
    "Mais uma coisa, vamos utilizar um código de cores para você entender o meu feedback no seu notebook. Funciona assim:\n",
    "\n",
    "<div class=\"alert alert-block alert-success\">\n",
    "<b> Comentário do revisor: </b> <a class=\"tocSkip\"></a>\n",
    "\n",
    "Sucesso. Tudo foi feito corretamente.\n",
    "</div>\n",
    "\n",
    "<div class=\"alert alert-block alert-warning\">\n",
    "<b>Comentário do revisor: </b> <a class=\"tocSkip\"></a>\n",
    "\n",
    "Alerta não crítico, mas que pode ser corrigido para melhoria geral no seu código/análise.\n",
    "</div>\n",
    "\n",
    "<div class=\"alert alert-block alert-danger\">\n",
    "\n",
    "<b>Comentário do revisor: </b> <a class=\"tocSkip\"></a>\n",
    "    \n",
    "Erro que precisa ser arrumado, caso contrário seu projeto **não** será aceito.\n",
    "</div>\n",
    "\n",
    "Você pode interagir comigo através dessa célula:\n",
    "<div class=\"alert alert-block alert-info\">\n",
    "<b>Resposta do Aluno.</b> <a class=\"tocSkip\"></a>\n",
    "</div>\n"
   ]
  },
  {
   "cell_type": "markdown",
   "metadata": {},
   "source": [
    "<div class=\"alert alert-block alert-success\">\n",
    "<b> Comentário geral do revisor</b> <a class=\"tocSkip\"></a>\n",
    "\n",
    "Obrigado por enviar o seu projeto e pelo esforço de chegar até aqui. O seu projeto possui alguns pontos bem interessantes, dos quais eu destaco:\n",
    "    \n",
    "- Código bem simples e estruturado \n",
    "- Comentários sucintos e bem objetivos\n",
    "- Análises bem detalhadas em cada etapa do projeto\n",
    "- Boas habilidades de manipulação de dados\n",
    "    \n",
    "<br>\n",
    "Espero que as sugestões sejam relevantes para projetos futuros. Te desejo uma jornada de muito sucesso e aprendizado. \n",
    "        \n",
    "<br>   \n",
    "    \n",
    "Qualquer dúvida, pode contar comigo.   \n",
    "    \n",
    "<br>  \n",
    "    \n",
    "**Até breve!**\n",
    "\n",
    "</div>"
   ]
  },
  {
   "cell_type": "markdown",
   "metadata": {},
   "source": [
    "# Sprint 11 - PROJETO INTEGRADO DE ANÁLISE DE DADOS\n",
    "\n",
    "<div class=\"alert alert-block alert-info\">\n",
    "    <b>APRESENTAÇÃO</b><br>\n",
    "Trata-se de uma startup que vende produtos alimentícios. <br>\n",
    "Será necessário analisar o comportamento do usuário para o aplicativo da empresa.<br>\n",
    "Para isso, estudaremos o funil de vendas. Descubremos como os usuários chegam à etapa de compra, procurando responder à seguintes dúvidas:<br>\n",
    "- Usuários realmente chegam a essa etapa? \n",
    "- Quantos ficam presos nas fases anteriores? \n",
    "- Quais etapas em particular?\n",
    "\n",
    "Em seguida, verificaremos os resultados do teste A e A/B, pois os designers gostariam de alterar as fontes de todo o aplicativo, mas os gerentes temem que os usuários achem o novo design intimidador. Eles decidirão tomar a decisão com base nos resultados de um teste A e A/B.<br>\n",
    "Os usuários são divididos em três grupos:<br>\n",
    "Dois grupos de controle recebem as fontes antigas e um grupo de teste recebe as novas. Precisaremos descubrir qual é o conjunto de fontes que produz melhores resultados.<br>\n",
    "A criação de dois grupos A tem certas vantagens. \n",
    "Podemos adaptar um princípio segundo o qual só estaremos confiantes na precisão de nossos testes quando os dois grupos de controle forem semelhantes.<br>\n",
    "e houver diferenças significativas entre os grupos A, isso pode nos ajudar a descobrir fatores que podem distorcer os resultados. A comparação de grupos de controle também nos informa de quanto tempo e dados precisaremos ao executar outros testes.<br>\n",
    "Utilizaremos o mesmo conjunto de dados para análise geral e análise A e A/B. \n",
    "</div>\n"
   ]
  },
  {
   "cell_type": "markdown",
   "metadata": {},
   "source": [
    "# 1 - Carregamento e Preparação dos Dados"
   ]
  },
  {
   "cell_type": "code",
   "execution_count": 48,
   "metadata": {},
   "outputs": [],
   "source": [
    "#Carregando as bibliotecas necessárias\n",
    "\n",
    "import pandas as pd \n",
    "import numpy as np \n",
    "import matplotlib.pyplot as plt\n",
    "import seaborn as sns \n",
    "import plotly.express as px\n",
    "from plotly import graph_objects as go\n",
    "from scipy import stats as st \n",
    "from statsmodels.stats.proportion import proportions_ztest"
   ]
  },
  {
   "cell_type": "code",
   "execution_count": 49,
   "metadata": {},
   "outputs": [
    {
     "name": "stdout",
     "output_type": "stream",
     "text": [
      "<class 'pandas.core.frame.DataFrame'>\n",
      "RangeIndex: 244126 entries, 0 to 244125\n",
      "Data columns (total 1 columns):\n",
      " #   Column                                       Non-Null Count   Dtype \n",
      "---  ------                                       --------------   ----- \n",
      " 0   EventName\tDeviceIDHash\tEventTimestamp\tExpId  244126 non-null  object\n",
      "dtypes: object(1)\n",
      "memory usage: 1.9+ MB\n"
     ]
    }
   ],
   "source": [
    "#Carregando o dataset e verificando os dados\n",
    "\n",
    "df = pd.read_csv('/datasets/logs_exp_us.csv')\n",
    "\n",
    "df.info()\n"
   ]
  },
  {
   "cell_type": "markdown",
   "metadata": {},
   "source": [
    "<div class=\"alert alert-block alert-info\">\n",
    "Parece que o arquivo foi carregado com todas as colunas como uma única string separada por tabulação (\\t), o que indica que o separador correto é \\t (tab). Vamos carregar novamente os dados </div>"
   ]
  },
  {
   "cell_type": "markdown",
   "metadata": {},
   "source": [
    "<div class=\"alert alert-block alert-warning\">\n",
    "<b> Comentário do revisor: </b> <a class=\"tocSkip\"></a>\n",
    "    \n",
    "Aqui você poderia carregar os dados diretamente com o separador especificado.\n",
    "</div>"
   ]
  },
  {
   "cell_type": "code",
   "execution_count": 50,
   "metadata": {},
   "outputs": [
    {
     "data": {
      "text/plain": [
       "(event_name         0\n",
       " user_id            0\n",
       " event_timestamp    0\n",
       " experiment_id      0\n",
       " event_date         0\n",
       " dtype: int64,\n",
       " event_name                 object\n",
       " user_id                     int64\n",
       " event_timestamp    datetime64[ns]\n",
       " experiment_id               int64\n",
       " event_date                 object\n",
       " dtype: object,\n",
       "                 event_name              user_id     event_timestamp  \\\n",
       " 0         MainScreenAppear  4575588528974610257 2019-07-25 04:43:36   \n",
       " 1         MainScreenAppear  7416695313311560658 2019-07-25 11:11:42   \n",
       " 2  PaymentScreenSuccessful  3518123091307005509 2019-07-25 11:28:47   \n",
       " 3         CartScreenAppear  3518123091307005509 2019-07-25 11:28:47   \n",
       " 4  PaymentScreenSuccessful  6217807653094995999 2019-07-25 11:48:42   \n",
       " \n",
       "    experiment_id  event_date  \n",
       " 0            246  2019-07-25  \n",
       " 1            246  2019-07-25  \n",
       " 2            248  2019-07-25  \n",
       " 3            248  2019-07-25  \n",
       " 4            248  2019-07-25  )"
      ]
     },
     "execution_count": 50,
     "metadata": {},
     "output_type": "execute_result"
    }
   ],
   "source": [
    "#Carregando o dataset novamente\n",
    "df = pd.read_csv('/datasets/logs_exp_us.csv', sep='\\t')\n",
    "\n",
    "\n",
    "#Renomeando as colunas para nomes mais adequados\n",
    "df.rename(columns={\n",
    "    \"EventName\": \"event_name\",\n",
    "    \"DeviceIDHash\": \"user_id\",\n",
    "    \"EventTimestamp\": \"event_timestamp\",\n",
    "    \"ExpId\": \"experiment_id\"\n",
    "}, inplace=True)\n",
    "\n",
    "\n",
    "#Convertendo timestamp para datetime e extraindo a data\n",
    "df[\"event_timestamp\"] = pd.to_datetime(df[\"event_timestamp\"], unit='s') # Corrigindo a conversão de timestamp de Unix epoch para datetime\n",
    "\n",
    "df[\"event_date\"] = df[\"event_timestamp\"].dt.date\n",
    "\n",
    "#Verificando valores ausentes e os tipos de dados\n",
    "missing_values = df.isnull().sum()\n",
    "data_types = df.dtypes\n",
    "\n",
    "#Criando uma amostra e verificando os dados\n",
    "df_sample = df.head()\n",
    "missing_values, data_types, df_sample"
   ]
  },
  {
   "cell_type": "markdown",
   "metadata": {},
   "source": [
    "<div class=\"alert alert-block alert-info\">\n",
    "O arquivo de dados estava separado por tabulação (\\t).<br>\n",
    "As colunas foram renomeadas adequadamente.<br>\n",
    "A coluna event_timestamp foi convertida para data e criamos uma nova coluna chamada event_date apenas com a data.<br> \n",
    "Nenhum valor ausente foi encontrado nas colunas.</div>"
   ]
  },
  {
   "cell_type": "markdown",
   "metadata": {},
   "source": [
    "<div class=\"alert alert-block alert-warning\">\n",
    "<b> Comentário do revisor: </b> <a class=\"tocSkip\"></a>\n",
    "    \n",
    "- O conjunto de dados foi carregado corretamente usando o separador `\\t`\n",
    "- O import das bibliotecas foi feito de forma correta e em uma célula separada\n",
    "- Os nomes das colunas foram convertidos para seguir o padrão `snake_case`\n",
    "- A hora foi extraída a partir do timestamp\n",
    "- **Dica**: Evite implementar várias linhas de código/comandos na mesma célula do notebook. Procure, sempre que possível, isolar a execução do código.\n",
    "</div>"
   ]
  },
  {
   "cell_type": "markdown",
   "metadata": {},
   "source": [
    "# 2 - Estudo e Verificação dos Dados"
   ]
  },
  {
   "cell_type": "code",
   "execution_count": 51,
   "metadata": {},
   "outputs": [
    {
     "data": {
      "image/png": "[encoded data removed]",
      "text/plain": [
       "<Figure size 1200x500 with 1 Axes>"
      ]
     },
     "metadata": {},
     "output_type": "display_data"
    },
    {
     "name": "stdout",
     "output_type": "stream",
     "text": [
      "O total de eventos registrados é: 244126\n",
      "O total de usuários registrados é: 7551\n",
      "O número médio de eventos por usuários é: 32.33\n",
      "\n",
      "\u001b[1mPeríodo coberto nos dados:\u001b[0m\n",
      "A data mínima é: 2019-07-25\n",
      "A data máxima é: 2019-08-07\n"
     ]
    }
   ],
   "source": [
    "#Definindo o padrão dos gráficos\n",
    "plt.style.use(\"ggplot\")\n",
    "sns.set_palette(\"pastel\")\n",
    "\n",
    "# Verificando a quantidade total de eventos\n",
    "total_events = len(df)\n",
    "\n",
    "# Verificando a quantidade de usuários únicos\n",
    "unique_users = df[\"user_id\"].nunique()\n",
    "\n",
    "# Verificando o número médio de eventos por usuário\n",
    "avg_events_per_user = total_events / unique_users\n",
    "\n",
    "# Verificando as datas mínima e máxima\n",
    "min_date = df[\"event_date\"].min()\n",
    "max_date = df[\"event_date\"].max()\n",
    "\n",
    "# Armazenando dados para criar um histograma de eventos por data\n",
    "events_per_day = df[\"event_date\"].value_counts().sort_index()\n",
    "\n",
    "# Gerando o histograma\n",
    "plt.figure(figsize=(12, 5))\n",
    "events_per_day.plot(kind='bar')\n",
    "plt.title(\"DISTRIBUIÇÃO DE EVENTOS POR DATA\")\n",
    "plt.xlabel(\"Data\")\n",
    "plt.ylabel(\"Número de eventos\")\n",
    "plt.xticks(rotation=45)\n",
    "plt.tight_layout()\n",
    "plt.grid(True)\n",
    "plt.show()\n",
    "\n",
    "# Exibindo os dados básicos\n",
    "print(f'O total de eventos registrados é: {total_events}')\n",
    "print(f'O total de usuários registrados é: {unique_users}')\n",
    "print(f'O número médio de eventos por usuários é: {avg_events_per_user:.2f}')\n",
    "print()\n",
    "print('\\033[1mPeríodo coberto nos dados:\\033[0m')\n",
    "print(f'A data mínima é: {min_date}')\n",
    "print(f'A data máxima é: {max_date}')\n"
   ]
  },
  {
   "cell_type": "markdown",
   "metadata": {},
   "source": [
    "<div class=\"alert alert-block alert-info\">\n",
    "O histograma mostra claramente que os primeiros dias (25 a 31 de julho) possuem menos eventos, indicando que os dados ainda não estavam completamente registrados nesses dias iniciais.<br>\n",
    "A partir de 01/08/2019, o volume de eventos aumenta e se mantém estável, sugerindo que os dados passam a ser confiáveis a partir desse ponto.<br>\n",
    "<b>Nesse caso iremos:</b> <br>\n",
    "1 - Filtrar os dados para manter apenas os dias completos (a partir de 01/08/2019)<br>\n",
    "2 - Verificar quantos eventos e usuários foram perdidos com essa exclusão<br>\n",
    "3 - Garantir que temos usuários dos três grupos experimentais (controle A1, controle A2 e teste B)</div>"
   ]
  },
  {
   "cell_type": "markdown",
   "metadata": {},
   "source": [
    "<div class=\"alert alert-block alert-warning\">\n",
    "<b> Comentário do revisor: </b> <a class=\"tocSkip\"></a>\n",
    "    \n",
    "- O total de eventos no período e média de eventos por usuário foram calculados\n",
    "- O período de cobertura dos dados foi analisado. Como sugestão, aqui você poderia calcular também o intervalo entre as datas\n",
    "- A distribuição dos eventos foi analisada ao longo dos dias\n",
    "- A conclusão foi apresentada\n",
    "</div>"
   ]
  },
  {
   "cell_type": "code",
   "execution_count": 52,
   "metadata": {},
   "outputs": [
    {
     "data": {
      "image/png": "[encoded data removed]",
      "text/plain": [
       "<Figure size 600x400 with 1 Axes>"
      ]
     },
     "metadata": {},
     "output_type": "display_data"
    },
    {
     "name": "stdout",
     "output_type": "stream",
     "text": [
      "O número de eventos perdidos foi de: 2828 de um total de 244.126\n",
      "O número de usuários perdidos foi de: 17 de um total de 7.551\n",
      "\n",
      "\u001b[1mOs grupos de Controle são:\u001b[0m\n",
      "Controle A1 (ID 246): 79425 eventos\n",
      "Controle A2 (ID 247): 77147 eventos\n",
      "Teste B (ID 248): 84726 eventos\n"
     ]
    }
   ],
   "source": [
    "# Filtrando os dados a partir de 01/08/2019\n",
    "filtered = pd.to_datetime(\"2019-08-01\").date()\n",
    "df_filtered_aug = df[df[\"event_date\"] >= filtered]\n",
    "\n",
    "# Verificando as perda de eventos e usuários\n",
    "lost_events_aug = total_events - len(df_filtered_aug)\n",
    "lost_users_aug = unique_users - df_filtered_aug[\"user_id\"].nunique()\n",
    "\n",
    "# Verificando a presença dos grupos experimentais\n",
    "group_counts_aug = df_filtered_aug[\"experiment_id\"].value_counts().sort_index()\n",
    "\n",
    "# Visualizando a distribuição dos grupos experimentais\n",
    "plt.figure(figsize=(6, 4))\n",
    "sns.barplot(x=group_counts_aug.index.astype(str), y=group_counts_aug.values)\n",
    "plt.title(\"DISTRIBUIÇÃO DE EVENTOS POR GRUPO EXPERIMENTAL (A PARTIR DE 01/08/2019)\")\n",
    "plt.xlabel(\"ID do Experimento\")\n",
    "plt.ylabel(\"Número de eventos\")\n",
    "plt.tight_layout()\n",
    "plt.grid(True)\n",
    "plt.show()\n",
    "\n",
    "print(f'O número de eventos perdidos foi de: {lost_events_aug} de um total de 244.126')\n",
    "print(f'O número de usuários perdidos foi de: {lost_users_aug} de um total de 7.551')\n",
    "print()\n",
    "print('\\033[1mOs grupos de Controle são:\\033[0m')\n",
    "\n",
    "for group_id, count in group_counts_aug.items():\n",
    "    label = \"Controle A1\" if group_id == 246 else \"Controle A2\" if group_id == 247 else \"Teste B\"\n",
    "    print(f\"{label} (ID {group_id}): {count} eventos\")"
   ]
  },
  {
   "cell_type": "markdown",
   "metadata": {},
   "source": [
    "<div class=\"alert alert-block alert-info\">\n",
    "As perdas são pequenas, então os dados permanecem representativos.<br>\n",
    "E temos eventos suficientes de todos os três grupos experimentais após o corte.</div>"
   ]
  },
  {
   "cell_type": "markdown",
   "metadata": {},
   "source": [
    "<div class=\"alert alert-block alert-warning\">\n",
    "<b> Comentário do revisor: </b> <a class=\"tocSkip\"></a>\n",
    "    \n",
    "- Aqui você poderia ter calculado o percentual de eventos perdidos após o filtro.\n",
    "</div>"
   ]
  },
  {
   "cell_type": "markdown",
   "metadata": {},
   "source": [
    "# 3 - Estudo do Funil de Eventos"
   ]
  },
  {
   "cell_type": "code",
   "execution_count": 53,
   "metadata": {},
   "outputs": [
    {
     "data": {
      "text/html": [
       "<div>\n",
       "<style scoped>\n",
       "    .dataframe tbody tr th:only-of-type {\n",
       "        vertical-align: middle;\n",
       "    }\n",
       "\n",
       "    .dataframe tbody tr th {\n",
       "        vertical-align: top;\n",
       "    }\n",
       "\n",
       "    .dataframe thead th {\n",
       "        text-align: right;\n",
       "    }\n",
       "</style>\n",
       "<table border=\"1\" class=\"dataframe\">\n",
       "  <thead>\n",
       "    <tr style=\"text-align: right;\">\n",
       "      <th></th>\n",
       "      <th>event_count</th>\n",
       "      <th>unique_users</th>\n",
       "      <th>user_ratio</th>\n",
       "    </tr>\n",
       "  </thead>\n",
       "  <tbody>\n",
       "    <tr>\n",
       "      <th>MainScreenAppear</th>\n",
       "      <td>117431</td>\n",
       "      <td>7419</td>\n",
       "      <td>98.47%</td>\n",
       "    </tr>\n",
       "    <tr>\n",
       "      <th>OffersScreenAppear</th>\n",
       "      <td>46350</td>\n",
       "      <td>4593</td>\n",
       "      <td>60.96%</td>\n",
       "    </tr>\n",
       "    <tr>\n",
       "      <th>CartScreenAppear</th>\n",
       "      <td>42365</td>\n",
       "      <td>3734</td>\n",
       "      <td>49.56%</td>\n",
       "    </tr>\n",
       "    <tr>\n",
       "      <th>PaymentScreenSuccessful</th>\n",
       "      <td>34113</td>\n",
       "      <td>3539</td>\n",
       "      <td>46.97%</td>\n",
       "    </tr>\n",
       "    <tr>\n",
       "      <th>Tutorial</th>\n",
       "      <td>1039</td>\n",
       "      <td>840</td>\n",
       "      <td>11.15%</td>\n",
       "    </tr>\n",
       "  </tbody>\n",
       "</table>\n",
       "</div>"
      ],
      "text/plain": [
       "                         event_count  unique_users  user_ratio\n",
       "MainScreenAppear              117431          7419      98.47%\n",
       "OffersScreenAppear             46350          4593      60.96%\n",
       "CartScreenAppear               42365          3734      49.56%\n",
       "PaymentScreenSuccessful        34113          3539      46.97%\n",
       "Tutorial                        1039           840      11.15%"
      ]
     },
     "metadata": {},
     "output_type": "display_data"
    }
   ],
   "source": [
    "# Verificando quais eventos existem e sua frequência de ocorrência\n",
    "event_counts = df_filtered_aug[\"event_name\"].value_counts()\n",
    "\n",
    "# Verificando o número de usuários únicos que executaram cada evento\n",
    "users_per_event = df_filtered_aug.groupby(\"event_name\")[\"user_id\"].nunique().sort_values(ascending=False)\n",
    "\n",
    "# Verificando a proporção de usuários por evento em relação ao total de usuários\n",
    "total_users_aug = df_filtered_aug[\"user_id\"].nunique()\n",
    "user_ratio_per_event = (users_per_event / total_users_aug).sort_values(ascending=False)\n",
    "\n",
    "# Juntando tudo em um dataframe para análise\n",
    "event_funnel_df = pd.DataFrame({\n",
    "    \"event_count\": event_counts,\n",
    "    \"unique_users\": users_per_event,\n",
    "    \"user_ratio\": user_ratio_per_event\n",
    "})\n",
    "\n",
    "# exibindo os nomes dos eventos para que possamos decidir a ordem lógica do funil\n",
    "pd.set_option('display.float_format', '{:.2%}'.format)\n",
    "display(event_funnel_df)"
   ]
  },
  {
   "cell_type": "markdown",
   "metadata": {},
   "source": [
    "<div class=\"alert alert-block alert-info\">\n",
    "A tabela exibida mostra:<br>\n",
    "A frequência de cada evento no app.<br>\n",
    "O número de usuários únicos que realizaram cada ação.<br>\n",
    "A proporção de usuários que executaram a ação pelo menos uma vez.<br><br>\n",
    "    <b>Os eventos encontrados em ordem de frequência são:</b><br>\n",
    "MainScreenAppear<br>\n",
    "OffersScreenAppear<br>\n",
    "CartScreenAppear<br>\n",
    "PaymentScreenSuccessful<br>\n",
    "Tutorial<br>\n",
    "<br>\n",
    "Com base nesses nomes, a sequência mais lógica do funil de vendas seria:<br>\n",
    "MainScreenAppear → OffersScreenAppear → CartScreenAppear → PaymentScreenSuccessful<br><br>\n",
    "O evento Tutorial parece estar fora do fluxo principal de compra, então não será incluído no cálculo do funil.\n",
    "</div>"
   ]
  },
  {
   "cell_type": "markdown",
   "metadata": {},
   "source": [
    "<div class=\"alert alert-block alert-success\">\n",
    "<b> Comentário do revisor: </b> <a class=\"tocSkip\"></a>\n",
    "    \n",
    "- A proporção de usuários por etapa do funil foi analisada\n",
    "- A ordem das etapas foi calculada!\n",
    "</div>"
   ]
  },
  {
   "cell_type": "code",
   "execution_count": 54,
   "metadata": {},
   "outputs": [
    {
     "data": {
      "image/png": "[encoded data removed]",
      "text/plain": [
       "<Figure size 1000x500 with 1 Axes>"
      ]
     },
     "metadata": {},
     "output_type": "display_data"
    },
    {
     "data": {
      "image/png": "[encoded data removed]",
      "text/plain": [
       "<Figure size 1000x500 with 1 Axes>"
      ]
     },
     "metadata": {},
     "output_type": "display_data"
    },
    {
     "data": {
      "image/png": "[encoded data removed]",
      "text/plain": [
       "<Figure size 600x600 with 1 Axes>"
      ]
     },
     "metadata": {},
     "output_type": "display_data"
    }
   ],
   "source": [
    "# Definindo a ordem do funil de eventos\n",
    "funnel_steps = [\n",
    "    \"MainScreenAppear\",\n",
    "    \"OffersScreenAppear\",\n",
    "    \"CartScreenAppear\",\n",
    "    \"PaymentScreenSuccessful\"\n",
    "]\n",
    "\n",
    "# Calculando os usuários únicos por etapa\n",
    "funnel_data = {}\n",
    "for step in funnel_steps:\n",
    "    funnel_data[step] = df_filtered_aug[df_filtered_aug[\"event_name\"] == step][\"user_id\"].nunique()\n",
    "\n",
    "# Criando um dataframe com as etapas do funil\n",
    "funnel_df = pd.DataFrame.from_dict(funnel_data, orient='index', columns=[\"unique_users\"])\n",
    "funnel_df[\"step\"] = funnel_df.index\n",
    "funnel_df.reset_index(drop=True, inplace=True)\n",
    "\n",
    "# Calculando as taxas de conversão entre etapas\n",
    "funnel_df[\"conversion_to_next\"] = funnel_df[\"unique_users\"].shift(-1) / funnel_df[\"unique_users\"]\n",
    "\n",
    "# Calculando a conversão total (do início ao pagamento)\n",
    "funnel_df[\"overall_conversion\"] = funnel_df[\"unique_users\"].iloc[-1] / funnel_df[\"unique_users\"].iloc[0]\n",
    "\n",
    "# Identificando a etapa com maior perda de usuários\n",
    "funnel_df[\"dropoff\"] = funnel_df[\"unique_users\"] - funnel_df[\"unique_users\"].shift(-1)\n",
    "\n",
    "# Quantos usuários fizeram o caminho completo (todos os 4 eventos)?\n",
    "# Interseção entre usuários que fizeram todas as etapas\n",
    "users_complete_path = set(df_filtered_aug[df_filtered_aug[\"event_name\"] == funnel_steps[0]][\"user_id\"])\n",
    "for step in funnel_steps[1:]:\n",
    "    users_complete_path = users_complete_path & set(df_filtered_aug[df_filtered_aug[\"event_name\"] == step][\"user_id\"])\n",
    "users_who_completed = len(users_complete_path)\n",
    "\n",
    "# Criando e exibindo o Gráfico 1: Taxas de conversão entre etapas\n",
    "plt.figure(figsize=(10, 5))\n",
    "sns.barplot(x=funnel_df[\"step\"], y=funnel_df[\"conversion_to_next\"])\n",
    "plt.ylim(0, 1.1)\n",
    "plt.title(\"TAXAS DE CONVERSÃO ENTRE ETAPAS DO FUNIL\")\n",
    "plt.ylabel(\"Taxa de Conversão para a Próxima Etapa\")\n",
    "plt.xlabel(\"Etapa do Funil\")\n",
    "plt.grid(True)\n",
    "plt.tight_layout()\n",
    "plt.show()\n",
    "\n",
    "# Criando e exibindo o Gráfico 2: Etapa com maior perda de usuários\n",
    "plt.figure(figsize=(10, 5))\n",
    "sns.barplot(x=funnel_df[\"step\"], y=funnel_df[\"dropoff\"])\n",
    "plt.title(\"PERDA DE USUÁRIOS POR ETAPA\")\n",
    "plt.ylabel(\"Usuários Perdidos\")\n",
    "plt.xlabel(\"Transição de Etapas\")\n",
    "plt.grid(True)\n",
    "plt.tight_layout()\n",
    "plt.show()\n",
    "\n",
    "\n",
    "#Criando e exibindo o Gráfico 3: Usuários que completaram o funil vs. total de usuários da primeira etapa\n",
    "completed = users_who_completed\n",
    "not_completed = funnel_df[\"unique_users\"].iloc[0] - users_who_completed\n",
    "\n",
    "plt.figure(figsize=(6, 6))\n",
    "plt.pie([completed, not_completed], labels=[\"Completaram\", \"Não completaram\"], autopct='%1.1f%%', startangle=90)\n",
    "plt.title(\"USUÁRIOS QUE CONCLUÍRAM O FUNIL COMPLETO\")\n",
    "plt.tight_layout()\n",
    "plt.show()"
   ]
  },
  {
   "cell_type": "markdown",
   "metadata": {},
   "source": [
    "<div class=\"alert alert-block alert-info\">\n",
    "Podemos verificar que a fase com maior perda de usuários é a \"De MainScreenAppear\" para \"OffersScreenAppear\" (entrada para a tela de ofertas). Foram 2.826 usuários perdidos. Depois disso, a retenção melhora significativamente.<br>\n",
    "<br>\n",
    "O número de usuários que completaram todas as etapas é de 3.429 usuários<br>\n",
    "Isso representa cerca de 46% de todos os usuários do funil, um valor consistente com a conversão geral observada anteriormente.\n",
    "    </div>"
   ]
  },
  {
   "cell_type": "markdown",
   "metadata": {},
   "source": [
    "<div class=\"alert alert-block alert-success\">\n",
    "<b> Comentário do revisor: </b> <a class=\"tocSkip\"></a>\n",
    "    \n",
    "- O percentual de usuários que percorrem todo o caminho foi calculado\n",
    "- A perda de usuários foi calculada por etapa do funil\n",
    "- O número de usuários por grupo foi analisado\n",
    "</div>"
   ]
  },
  {
   "cell_type": "markdown",
   "metadata": {},
   "source": [
    "# 4 - Estudando os Resultados do Experimento"
   ]
  },
  {
   "cell_type": "code",
   "execution_count": 55,
   "metadata": {},
   "outputs": [
    {
     "data": {
      "text/plain": [
       "experiment_id\n",
       "246    2484\n",
       "247    2513\n",
       "248    2537\n",
       "Name: user_id, dtype: int64"
      ]
     },
     "execution_count": 55,
     "metadata": {},
     "output_type": "execute_result"
    }
   ],
   "source": [
    "# Verificando o número de usuários únicos em cada grupo experimental\n",
    "users_per_group = df_filtered_aug.groupby(\"experiment_id\")[\"user_id\"].nunique()\n",
    "\n",
    "# Criando uma função de teste de hipótese entre dois grupos para um evento específico\n",
    "def test_proportions(event_name, group1_id, group2_id):\n",
    "    group1_users = df_filtered_aug[df_filtered_aug[\"experiment_id\"] == group1_id]\n",
    "    group2_users = df_filtered_aug[df_filtered_aug[\"experiment_id\"] == group2_id]\n",
    "\n",
    "    total_users1 = group1_users[\"user_id\"].nunique()\n",
    "    total_users2 = group2_users[\"user_id\"].nunique()\n",
    "\n",
    "    event_users1 = group1_users[group1_users[\"event_name\"] == event_name][\"user_id\"].nunique()\n",
    "    event_users2 = group2_users[group2_users[\"event_name\"] == event_name][\"user_id\"].nunique()\n",
    "\n",
    "    count = [event_users1, event_users2]\n",
    "    nobs = [total_users1, total_users2]\n",
    "\n",
    "    stat, pval = proportions_ztest(count, nobs)\n",
    "    return {\n",
    "        \"event\": event_name,\n",
    "        \"group1\": group1_id,\n",
    "        \"group2\": group2_id,\n",
    "        \"prop1\": event_users1 / total_users1,\n",
    "        \"prop2\": event_users2 / total_users2,\n",
    "        \"p_value\": pval\n",
    "    }\n",
    "\n",
    "# Executando o teste A/A (grupo 246 vs 247) para todos os eventos\n",
    "event_names = df_filtered_aug[\"event_name\"].unique().tolist()\n",
    "aa_test_results = [test_proportions(event, 246, 247) for event in event_names]\n",
    "\n",
    "# Convertendo os resultados em DataFrame\n",
    "aa_test_df = pd.DataFrame(aa_test_results)\n",
    "\n",
    "users_per_group"
   ]
  },
  {
   "cell_type": "markdown",
   "metadata": {},
   "source": [
    "<div class=\"alert alert-block alert-info\"><b>O estudo dos grupos A/A (controle), apresentou o seguinte:</b><br>\n",
    "Grupo 246 (Controle A1): 2.484 usuários<br>\n",
    "Grupo 247 (Controle A2): 2.513 usuários<br>\n",
    "Grupo 248 (Teste B): 2.537 usuários<br></div>"
   ]
  },
  {
   "cell_type": "code",
   "execution_count": 56,
   "metadata": {},
   "outputs": [
    {
     "data": {
      "text/html": [
       "<div>\n",
       "<style scoped>\n",
       "    .dataframe tbody tr th:only-of-type {\n",
       "        vertical-align: middle;\n",
       "    }\n",
       "\n",
       "    .dataframe tbody tr th {\n",
       "        vertical-align: top;\n",
       "    }\n",
       "\n",
       "    .dataframe thead th {\n",
       "        text-align: right;\n",
       "    }\n",
       "</style>\n",
       "<table border=\"1\" class=\"dataframe\">\n",
       "  <thead>\n",
       "    <tr style=\"text-align: right;\">\n",
       "      <th></th>\n",
       "      <th>event</th>\n",
       "      <th>group1</th>\n",
       "      <th>group2</th>\n",
       "      <th>prop1</th>\n",
       "      <th>prop2</th>\n",
       "      <th>p_value</th>\n",
       "    </tr>\n",
       "  </thead>\n",
       "  <tbody>\n",
       "    <tr>\n",
       "      <th>0</th>\n",
       "      <td>Tutorial</td>\n",
       "      <td>246</td>\n",
       "      <td>247</td>\n",
       "      <td>11.19%</td>\n",
       "      <td>11.26%</td>\n",
       "      <td>93.77%</td>\n",
       "    </tr>\n",
       "    <tr>\n",
       "      <th>1</th>\n",
       "      <td>MainScreenAppear</td>\n",
       "      <td>246</td>\n",
       "      <td>247</td>\n",
       "      <td>98.63%</td>\n",
       "      <td>98.53%</td>\n",
       "      <td>75.71%</td>\n",
       "    </tr>\n",
       "    <tr>\n",
       "      <th>2</th>\n",
       "      <td>OffersScreenAppear</td>\n",
       "      <td>246</td>\n",
       "      <td>247</td>\n",
       "      <td>62.08%</td>\n",
       "      <td>60.49%</td>\n",
       "      <td>24.81%</td>\n",
       "    </tr>\n",
       "    <tr>\n",
       "      <th>3</th>\n",
       "      <td>CartScreenAppear</td>\n",
       "      <td>246</td>\n",
       "      <td>247</td>\n",
       "      <td>50.97%</td>\n",
       "      <td>49.26%</td>\n",
       "      <td>22.88%</td>\n",
       "    </tr>\n",
       "    <tr>\n",
       "      <th>4</th>\n",
       "      <td>PaymentScreenSuccessful</td>\n",
       "      <td>246</td>\n",
       "      <td>247</td>\n",
       "      <td>48.31%</td>\n",
       "      <td>46.08%</td>\n",
       "      <td>11.46%</td>\n",
       "    </tr>\n",
       "  </tbody>\n",
       "</table>\n",
       "</div>"
      ],
      "text/plain": [
       "                     event  group1  group2  prop1  prop2  p_value\n",
       "0                 Tutorial     246     247 11.19% 11.26%   93.77%\n",
       "1         MainScreenAppear     246     247 98.63% 98.53%   75.71%\n",
       "2       OffersScreenAppear     246     247 62.08% 60.49%   24.81%\n",
       "3         CartScreenAppear     246     247 50.97% 49.26%   22.88%\n",
       "4  PaymentScreenSuccessful     246     247 48.31% 46.08%   11.46%"
      ]
     },
     "execution_count": 56,
     "metadata": {},
     "output_type": "execute_result"
    }
   ],
   "source": [
    "aa_test_df"
   ]
  },
  {
   "cell_type": "markdown",
   "metadata": {},
   "source": [
    "<div class=\"alert alert-block alert-info\">\n",
    "Nenhuma das diferenças entre os grupos 246 e 247 é estatisticamente significativa.<br>\n",
    "Isso confirma que a aleatorização funcionou corretamente, e que podemos confiar na base para o teste A/B."
   ]
  },
  {
   "cell_type": "code",
   "execution_count": 57,
   "metadata": {},
   "outputs": [
    {
     "data": {
      "text/html": [
       "<div>\n",
       "<style scoped>\n",
       "    .dataframe tbody tr th:only-of-type {\n",
       "        vertical-align: middle;\n",
       "    }\n",
       "\n",
       "    .dataframe tbody tr th {\n",
       "        vertical-align: top;\n",
       "    }\n",
       "\n",
       "    .dataframe thead th {\n",
       "        text-align: right;\n",
       "    }\n",
       "</style>\n",
       "<table border=\"1\" class=\"dataframe\">\n",
       "  <thead>\n",
       "    <tr style=\"text-align: right;\">\n",
       "      <th></th>\n",
       "      <th>event</th>\n",
       "      <th>control_group</th>\n",
       "      <th>test_group</th>\n",
       "      <th>control_prop</th>\n",
       "      <th>test_prop</th>\n",
       "      <th>p_value</th>\n",
       "    </tr>\n",
       "  </thead>\n",
       "  <tbody>\n",
       "    <tr>\n",
       "      <th>0</th>\n",
       "      <td>Tutorial</td>\n",
       "      <td>246</td>\n",
       "      <td>248</td>\n",
       "      <td>11.19%</td>\n",
       "      <td>11.00%</td>\n",
       "      <td>82.64%</td>\n",
       "    </tr>\n",
       "    <tr>\n",
       "      <th>1</th>\n",
       "      <td>MainScreenAppear</td>\n",
       "      <td>246</td>\n",
       "      <td>248</td>\n",
       "      <td>98.63%</td>\n",
       "      <td>98.27%</td>\n",
       "      <td>29.50%</td>\n",
       "    </tr>\n",
       "    <tr>\n",
       "      <th>2</th>\n",
       "      <td>OffersScreenAppear</td>\n",
       "      <td>246</td>\n",
       "      <td>248</td>\n",
       "      <td>62.08%</td>\n",
       "      <td>60.35%</td>\n",
       "      <td>20.84%</td>\n",
       "    </tr>\n",
       "    <tr>\n",
       "      <th>3</th>\n",
       "      <td>CartScreenAppear</td>\n",
       "      <td>246</td>\n",
       "      <td>248</td>\n",
       "      <td>50.97%</td>\n",
       "      <td>48.48%</td>\n",
       "      <td>7.84%</td>\n",
       "    </tr>\n",
       "    <tr>\n",
       "      <th>4</th>\n",
       "      <td>PaymentScreenSuccessful</td>\n",
       "      <td>246</td>\n",
       "      <td>248</td>\n",
       "      <td>48.31%</td>\n",
       "      <td>46.55%</td>\n",
       "      <td>21.23%</td>\n",
       "    </tr>\n",
       "    <tr>\n",
       "      <th>5</th>\n",
       "      <td>Tutorial</td>\n",
       "      <td>247</td>\n",
       "      <td>248</td>\n",
       "      <td>11.26%</td>\n",
       "      <td>11.00%</td>\n",
       "      <td>76.53%</td>\n",
       "    </tr>\n",
       "    <tr>\n",
       "      <th>6</th>\n",
       "      <td>MainScreenAppear</td>\n",
       "      <td>247</td>\n",
       "      <td>248</td>\n",
       "      <td>98.53%</td>\n",
       "      <td>98.27%</td>\n",
       "      <td>45.87%</td>\n",
       "    </tr>\n",
       "    <tr>\n",
       "      <th>7</th>\n",
       "      <td>OffersScreenAppear</td>\n",
       "      <td>247</td>\n",
       "      <td>248</td>\n",
       "      <td>60.49%</td>\n",
       "      <td>60.35%</td>\n",
       "      <td>91.98%</td>\n",
       "    </tr>\n",
       "    <tr>\n",
       "      <th>8</th>\n",
       "      <td>CartScreenAppear</td>\n",
       "      <td>247</td>\n",
       "      <td>248</td>\n",
       "      <td>49.26%</td>\n",
       "      <td>48.48%</td>\n",
       "      <td>57.86%</td>\n",
       "    </tr>\n",
       "    <tr>\n",
       "      <th>9</th>\n",
       "      <td>PaymentScreenSuccessful</td>\n",
       "      <td>247</td>\n",
       "      <td>248</td>\n",
       "      <td>46.08%</td>\n",
       "      <td>46.55%</td>\n",
       "      <td>73.73%</td>\n",
       "    </tr>\n",
       "    <tr>\n",
       "      <th>10</th>\n",
       "      <td>Tutorial</td>\n",
       "      <td>246+247</td>\n",
       "      <td>248</td>\n",
       "      <td>11.23%</td>\n",
       "      <td>11.00%</td>\n",
       "      <td>76.49%</td>\n",
       "    </tr>\n",
       "    <tr>\n",
       "      <th>11</th>\n",
       "      <td>MainScreenAppear</td>\n",
       "      <td>246+247</td>\n",
       "      <td>248</td>\n",
       "      <td>98.58%</td>\n",
       "      <td>98.27%</td>\n",
       "      <td>29.42%</td>\n",
       "    </tr>\n",
       "    <tr>\n",
       "      <th>12</th>\n",
       "      <td>OffersScreenAppear</td>\n",
       "      <td>246+247</td>\n",
       "      <td>248</td>\n",
       "      <td>61.28%</td>\n",
       "      <td>60.35%</td>\n",
       "      <td>43.43%</td>\n",
       "    </tr>\n",
       "    <tr>\n",
       "      <th>13</th>\n",
       "      <td>CartScreenAppear</td>\n",
       "      <td>246+247</td>\n",
       "      <td>248</td>\n",
       "      <td>50.11%</td>\n",
       "      <td>48.48%</td>\n",
       "      <td>18.18%</td>\n",
       "    </tr>\n",
       "    <tr>\n",
       "      <th>14</th>\n",
       "      <td>PaymentScreenSuccessful</td>\n",
       "      <td>246+247</td>\n",
       "      <td>248</td>\n",
       "      <td>47.19%</td>\n",
       "      <td>46.55%</td>\n",
       "      <td>60.04%</td>\n",
       "    </tr>\n",
       "  </tbody>\n",
       "</table>\n",
       "</div>"
      ],
      "text/plain": [
       "                      event control_group  test_group  control_prop  \\\n",
       "0                  Tutorial           246         248        11.19%   \n",
       "1          MainScreenAppear           246         248        98.63%   \n",
       "2        OffersScreenAppear           246         248        62.08%   \n",
       "3          CartScreenAppear           246         248        50.97%   \n",
       "4   PaymentScreenSuccessful           246         248        48.31%   \n",
       "5                  Tutorial           247         248        11.26%   \n",
       "6          MainScreenAppear           247         248        98.53%   \n",
       "7        OffersScreenAppear           247         248        60.49%   \n",
       "8          CartScreenAppear           247         248        49.26%   \n",
       "9   PaymentScreenSuccessful           247         248        46.08%   \n",
       "10                 Tutorial       246+247         248        11.23%   \n",
       "11         MainScreenAppear       246+247         248        98.58%   \n",
       "12       OffersScreenAppear       246+247         248        61.28%   \n",
       "13         CartScreenAppear       246+247         248        50.11%   \n",
       "14  PaymentScreenSuccessful       246+247         248        47.19%   \n",
       "\n",
       "    test_prop  p_value  \n",
       "0      11.00%   82.64%  \n",
       "1      98.27%   29.50%  \n",
       "2      60.35%   20.84%  \n",
       "3      48.48%    7.84%  \n",
       "4      46.55%   21.23%  \n",
       "5      11.00%   76.53%  \n",
       "6      98.27%   45.87%  \n",
       "7      60.35%   91.98%  \n",
       "8      48.48%   57.86%  \n",
       "9      46.55%   73.73%  \n",
       "10     11.00%   76.49%  \n",
       "11     98.27%   29.42%  \n",
       "12     60.35%   43.43%  \n",
       "13     48.48%   18.18%  \n",
       "14     46.55%   60.04%  "
      ]
     },
     "execution_count": 57,
     "metadata": {},
     "output_type": "execute_result"
    }
   ],
   "source": [
    "# Criando uma função para comparar grupo de teste (248) com qualquer outro grupo\n",
    "def compare_with_test(event_name, control_id, test_id=248):\n",
    "    control_users = df_filtered_aug[df_filtered_aug[\"experiment_id\"] == control_id]\n",
    "    test_users = df_filtered_aug[df_filtered_aug[\"experiment_id\"] == test_id]\n",
    "\n",
    "    total_control = control_users[\"user_id\"].nunique()\n",
    "    total_test = test_users[\"user_id\"].nunique()\n",
    "\n",
    "    control_event = control_users[control_users[\"event_name\"] == event_name][\"user_id\"].nunique()\n",
    "    test_event = test_users[test_users[\"event_name\"] == event_name][\"user_id\"].nunique()\n",
    "\n",
    "    count = [control_event, test_event]\n",
    "    nobs = [total_control, total_test]\n",
    "\n",
    "    stat, pval = proportions_ztest(count, nobs)\n",
    "    return {\n",
    "        \"event\": event_name,\n",
    "        \"control_group\": control_id,\n",
    "        \"test_group\": test_id,\n",
    "        \"control_prop\": control_event / total_control,\n",
    "        \"test_prop\": test_event / total_test,\n",
    "        \"p_value\": pval\n",
    "    }\n",
    "\n",
    "# Comparando grupo 248 com 246 e 247 separadamente\n",
    "ab_test_246 = [compare_with_test(event, 246) for event in event_names]\n",
    "ab_test_247 = [compare_with_test(event, 247) for event in event_names]\n",
    "\n",
    "# Comparando grupo 248 com grupos 246 + 247 combinados\n",
    "combined_control = df_filtered_aug[df_filtered_aug[\"experiment_id\"].isin([246, 247])]\n",
    "test_group = df_filtered_aug[df_filtered_aug[\"experiment_id\"] == 248]\n",
    "\n",
    "def compare_with_combined(event_name):\n",
    "    total_control = combined_control[\"user_id\"].nunique()\n",
    "    total_test = test_group[\"user_id\"].nunique()\n",
    "\n",
    "    control_event = combined_control[combined_control[\"event_name\"] == event_name][\"user_id\"].nunique()\n",
    "    test_event = test_group[test_group[\"event_name\"] == event_name][\"user_id\"].nunique()\n",
    "\n",
    "    count = [control_event, test_event]\n",
    "    nobs = [total_control, total_test]\n",
    "\n",
    "    stat, pval = proportions_ztest(count, nobs)\n",
    "    return {\n",
    "        \"event\": event_name,\n",
    "        \"control_group\": \"246+247\",\n",
    "        \"test_group\": 248,\n",
    "        \"control_prop\": control_event / total_control,\n",
    "        \"test_prop\": test_event / total_test,\n",
    "        \"p_value\": pval\n",
    "    }\n",
    "\n",
    "ab_test_combined = [compare_with_combined(event) for event in event_names]\n",
    "\n",
    "# Juntando todos os resultados em DataFrame\n",
    "ab_df_246 = pd.DataFrame(ab_test_246)\n",
    "ab_df_247 = pd.DataFrame(ab_test_247)\n",
    "ab_df_combined = pd.DataFrame(ab_test_combined)\n",
    "\n",
    "ab_df_all = pd.concat([ab_df_246, ab_df_247, ab_df_combined], ignore_index=True)\n",
    "ab_df_all"
   ]
  },
  {
   "cell_type": "markdown",
   "metadata": {},
   "source": [
    "<div class=\"alert alert-block alert-info\">\n",
    "Nenhum evento apresentou diferença estatisticamente significativa entre o grupo de teste (fonte nova) e os grupos de controle.<br>\n",
    "A fonte nova não impactou negativamente a navegação ou a conversão.<br>\n",
    "A ação CartScreenAppear no grupo 246 teve o p-valor mais baixo (0.078), mas ainda acima do limiar padrão de significância.<br>\n",
    "<br></div>"
   ]
  },
  {
   "cell_type": "markdown",
   "metadata": {},
   "source": [
    "<div class=\"alert alert-block alert-success\">\n",
    "<b> Comentário do revisor: </b> <a class=\"tocSkip\"></a>\n",
    "\n",
    "- O teste foi executado corretamente\n",
    "- As estatísticas e `p-valor` foram calculados\n",
    "- As conclusões foram apresentadas\n",
    "</div>"
   ]
  },
  {
   "cell_type": "markdown",
   "metadata": {},
   "source": [
    "# 5 - CONCLUSÕES"
   ]
  },
  {
   "cell_type": "markdown",
   "metadata": {},
   "source": [
    "<div class=\"alert alert-block alert-info\">Usamos em nossos testes o nível de significância de 0,05, ou seja, aceitamos até 5% de chance de cometer um erro tipo I (rejeitar uma hipótese nula que é verdadeira).<br><br>\n",
    "Para cada evento, foram feitas as seguintes comparações:\n",
    "Grupo 246 vs 247 → (A/A)<br>\n",
    "Grupo 246 vs 248 → (A/B)<br>\n",
    "Grupo 247 vs 248 → (A/B)<br>\n",
    "Grupo 246+247 vs 248 → (A/B)<br>\n",
    "Como temos 5 eventos, o total de testes é:<br>\n",
    "5 eventos × 4 comparações = 20 testes de hipótese.<br><br>\n",
    "\n",
    "Nenhum evento apresentou diferença estatisticamente significativa entre o grupo de teste (fonte nova) e os grupos de controle.<br>\n",
    "Com base nesses resultados, não há evidências de que a nova fonte prejudique o comportamento dos usuários. <br>\n",
    "    Portanto, a mudança de design pode ser considerada segura.\n",
    "</div>\n"
   ]
  },
  {
   "cell_type": "markdown",
   "metadata": {},
   "source": [
    "<div class=\"alert alert-block alert-success\">\n",
    "<b> Comentário do revisor: </b> <a class=\"tocSkip\"></a>\n",
    "\n",
    "A conclusão final foi apresentada. Bom trabalho consolidando as análises realizadas!\n",
    "</div>"
   ]
  }
 ],
 "metadata": {
  "ExecuteTimeLog": [
   {
    "duration": 2675,
    "start_time": "2025-04-03T14:52:57.857Z"
   },
   {
    "duration": 560,
    "start_time": "2025-04-03T14:54:44.043Z"
   },
   {
    "duration": 219,
    "start_time": "2025-04-03T14:54:54.717Z"
   },
   {
    "duration": 198,
    "start_time": "2025-04-03T14:55:10.386Z"
   },
   {
    "duration": 196,
    "start_time": "2025-04-03T14:55:19.899Z"
   },
   {
    "duration": 186,
    "start_time": "2025-04-03T14:55:30.618Z"
   },
   {
    "duration": 377,
    "start_time": "2025-04-03T14:55:38.666Z"
   },
   {
    "duration": 195,
    "start_time": "2025-04-03T14:55:53.488Z"
   },
   {
    "duration": 3,
    "start_time": "2025-04-03T14:59:09.600Z"
   },
   {
    "duration": 188,
    "start_time": "2025-04-03T14:59:11.396Z"
   },
   {
    "duration": 18,
    "start_time": "2025-04-03T14:59:33.757Z"
   },
   {
    "duration": 99,
    "start_time": "2025-04-03T14:59:52.221Z"
   },
   {
    "duration": 98,
    "start_time": "2025-04-03T14:59:55.705Z"
   },
   {
    "duration": 166,
    "start_time": "2025-04-03T15:10:16.634Z"
   },
   {
    "duration": 170,
    "start_time": "2025-04-03T15:11:18.463Z"
   },
   {
    "duration": 147,
    "start_time": "2025-04-03T15:23:00.715Z"
   },
   {
    "duration": 22,
    "start_time": "2025-04-03T15:24:18.261Z"
   },
   {
    "duration": 159,
    "start_time": "2025-04-03T15:25:34.132Z"
   },
   {
    "duration": 151,
    "start_time": "2025-04-03T15:26:18.786Z"
   },
   {
    "duration": 191,
    "start_time": "2025-04-04T23:13:22.802Z"
   },
   {
    "duration": 2606,
    "start_time": "2025-04-04T23:13:32.917Z"
   },
   {
    "duration": 238,
    "start_time": "2025-04-04T23:13:35.526Z"
   },
   {
    "duration": 189,
    "start_time": "2025-04-04T23:13:35.766Z"
   },
   {
    "duration": 373,
    "start_time": "2025-04-04T23:13:35.956Z"
   },
   {
    "duration": 352,
    "start_time": "2025-04-04T23:17:15.878Z"
   },
   {
    "duration": 341,
    "start_time": "2025-04-04T23:17:41.615Z"
   },
   {
    "duration": 5,
    "start_time": "2025-04-04T23:19:28.017Z"
   },
   {
    "duration": 325,
    "start_time": "2025-04-04T23:19:49.945Z"
   },
   {
    "duration": 354,
    "start_time": "2025-04-04T23:21:03.679Z"
   },
   {
    "duration": 310,
    "start_time": "2025-04-04T23:21:13.928Z"
   },
   {
    "duration": 343,
    "start_time": "2025-04-04T23:22:02.431Z"
   },
   {
    "duration": 447,
    "start_time": "2025-04-04T23:22:27.076Z"
   },
   {
    "duration": 357,
    "start_time": "2025-04-04T23:23:14.071Z"
   },
   {
    "duration": 9,
    "start_time": "2025-04-04T23:36:16.322Z"
   },
   {
    "duration": 232,
    "start_time": "2025-04-04T23:36:24.043Z"
   },
   {
    "duration": 3,
    "start_time": "2025-04-04T23:37:40.999Z"
   },
   {
    "duration": 187,
    "start_time": "2025-04-04T23:37:41.005Z"
   },
   {
    "duration": 166,
    "start_time": "2025-04-04T23:37:41.194Z"
   },
   {
    "duration": 334,
    "start_time": "2025-04-04T23:37:41.362Z"
   },
   {
    "duration": 256,
    "start_time": "2025-04-04T23:37:41.699Z"
   },
   {
    "duration": 352,
    "start_time": "2025-04-04T23:38:11.081Z"
   },
   {
    "duration": 191,
    "start_time": "2025-04-04T23:38:15.797Z"
   },
   {
    "duration": 205,
    "start_time": "2025-04-04T23:38:29.494Z"
   },
   {
    "duration": 201,
    "start_time": "2025-04-04T23:38:57.095Z"
   },
   {
    "duration": 317,
    "start_time": "2025-04-04T23:39:16.334Z"
   },
   {
    "duration": 304,
    "start_time": "2025-04-04T23:39:31.742Z"
   },
   {
    "duration": 235,
    "start_time": "2025-04-04T23:41:13.836Z"
   },
   {
    "duration": 241,
    "start_time": "2025-04-04T23:44:12.236Z"
   },
   {
    "duration": 21,
    "start_time": "2025-04-05T00:06:33.308Z"
   },
   {
    "duration": 3,
    "start_time": "2025-04-05T00:08:46.829Z"
   },
   {
    "duration": 66,
    "start_time": "2025-04-05T00:10:39.507Z"
   },
   {
    "duration": 133,
    "start_time": "2025-04-05T00:19:18.458Z"
   },
   {
    "duration": 131,
    "start_time": "2025-04-05T00:19:37.209Z"
   },
   {
    "duration": 761,
    "start_time": "2025-04-05T00:24:33.898Z"
   },
   {
    "duration": 14,
    "start_time": "2025-04-05T00:32:11.576Z"
   },
   {
    "duration": 8,
    "start_time": "2025-04-05T00:32:50.147Z"
   },
   {
    "duration": 142,
    "start_time": "2025-04-05T00:39:26.241Z"
   },
   {
    "duration": 126,
    "start_time": "2025-04-05T00:41:59.443Z"
   },
   {
    "duration": 182,
    "start_time": "2025-04-05T00:42:19.423Z"
   },
   {
    "duration": 123,
    "start_time": "2025-04-05T00:42:46.233Z"
   },
   {
    "duration": 141,
    "start_time": "2025-04-05T00:42:52.938Z"
   },
   {
    "duration": 130,
    "start_time": "2025-04-05T00:43:03.152Z"
   },
   {
    "duration": 125,
    "start_time": "2025-04-05T00:43:12.100Z"
   },
   {
    "duration": 124,
    "start_time": "2025-04-05T00:43:40.099Z"
   },
   {
    "duration": 7,
    "start_time": "2025-04-05T00:43:52.416Z"
   },
   {
    "duration": 278,
    "start_time": "2025-04-05T00:48:15.943Z"
   },
   {
    "duration": 3,
    "start_time": "2025-04-05T00:58:18.836Z"
   },
   {
    "duration": 215,
    "start_time": "2025-04-05T00:58:18.842Z"
   },
   {
    "duration": 165,
    "start_time": "2025-04-05T00:58:19.059Z"
   },
   {
    "duration": 305,
    "start_time": "2025-04-05T00:58:19.226Z"
   },
   {
    "duration": 336,
    "start_time": "2025-04-05T00:58:19.533Z"
   },
   {
    "duration": 74,
    "start_time": "2025-04-05T00:58:19.871Z"
   },
   {
    "duration": 803,
    "start_time": "2025-04-05T00:58:19.952Z"
   },
   {
    "duration": 130,
    "start_time": "2025-04-05T00:58:20.758Z"
   },
   {
    "duration": 6,
    "start_time": "2025-04-05T00:58:20.891Z"
   },
   {
    "duration": 293,
    "start_time": "2025-04-05T00:58:20.899Z"
   },
   {
    "duration": 10,
    "start_time": "2025-04-05T15:23:51.501Z"
   }
  ],
  "kernelspec": {
   "display_name": "Python 3 (ipykernel)",
   "language": "python",
   "name": "python3"
  },
  "language_info": {
   "codemirror_mode": {
    "name": "ipython",
    "version": 3
   },
   "file_extension": ".py",
   "mimetype": "text/x-python",
   "name": "python",
   "nbconvert_exporter": "python",
   "pygments_lexer": "ipython3",
   "version": "3.9.19"
  },
  "toc": {
   "base_numbering": 1,
   "nav_menu": {},
   "number_sections": true,
   "sideBar": true,
   "skip_h1_title": true,
   "title_cell": "Table of Contents",
   "title_sidebar": "Contents",
   "toc_cell": false,
   "toc_position": {},
   "toc_section_display": true,
   "toc_window_display": false
  }
 },
 "nbformat": 4,
 "nbformat_minor": 2
}
